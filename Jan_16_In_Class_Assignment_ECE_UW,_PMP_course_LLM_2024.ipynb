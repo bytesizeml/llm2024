{
  "nbformat": 4,
  "nbformat_minor": 0,
  "metadata": {
    "colab": {
      "provenance": []
    },
    "kernelspec": {
      "name": "python3",
      "display_name": "Python 3"
    },
    "language_info": {
      "name": "python"
    }
  },
  "cells": [
    {
      "cell_type": "markdown",
      "source": [
        "# Embeddings and Semantic Search (LLM 2024)\n",
        "\n",
        "## This in-class coding exercise is to get hands-on with embeddings and one of its obvious application: Semantic Search.\n",
        "\n",
        "Search is an area that a lot of companies have invested in. Any retail company has a search engine of its own to serve its products. But how many of them include semantics in search? Search is typically done through Tries. But when we bring semantics to search, the ball game entirely changes. Searching with semantics can help address tail queries whereas Trie searches are usually geared for head queries.\n",
        "One of the bottlenecks in including semantics in search is latency - The more sophisticated the search, the slower the search inference will be. This is why for semantic search, there is no one-stop solution in a real-world scenario. Even though we have ChatGPT to return amazing results with the right prompting, we know what the latency this will incur, thus making it less viable in this scenario :-)\n",
        "\n"
      ],
      "metadata": {
        "id": "QbEvgl3YSOmC"
      }
    },
    {
      "cell_type": "markdown",
      "source": [
        "## Install dependencies"
      ],
      "metadata": {
        "id": "dg0heYL7caiR"
      }
    },
    {
      "cell_type": "code",
      "source": [
        "!pip3 install sentence-transformers"
      ],
      "metadata": {
        "id": "N6Bm6xCtcaHr"
      },
      "execution_count": null,
      "outputs": []
    },
    {
      "cell_type": "markdown",
      "source": [
        "## 1. Embeddings\n",
        "\n",
        "Work on developing an embeddings class that goes from the simple glove embeddings to the more intricate sentence transformer embeddings"
      ],
      "metadata": {
        "id": "ry-6tsk5fkcI"
      }
    },
    {
      "cell_type": "code",
      "source": [
        "\"\"\"\n",
        "In this code block, you can develop a class for Embeddings -\n",
        "That can fetch embeddings of different kinds for the purpose of \"Semantic Search\"\n",
        "\"\"\"\n",
        "\n",
        "from sentence_transformers import SentenceTransformer\n",
        "\n",
        "class Embeddings:\n",
        "\n",
        "  def __init__(self):\n",
        "    \"\"\"\n",
        "    Initialize the class\n",
        "    \"\"\"\n",
        "    # Your code here\n",
        "    pass\n",
        "\n",
        "  def download_glove_embeddings(self):\n",
        "    \"\"\"\n",
        "    Download glove embeddings from web or from your gdrive if in optimized format\n",
        "    \"\"\"\n",
        "    # Implement your code here\n",
        "    pass\n",
        "\n",
        "\n",
        "  def load_glove_embeddings(self, embedding_dimension):\n",
        "    # Implement your code here\n",
        "    pass\n",
        "\n",
        "\n",
        "  def get_glove_embedding(self, word, embedding_dimension):\n",
        "    \"\"\"\n",
        "    Retrieve glove embedding of a specific dimension\n",
        "    \"\"\"\n",
        "\n",
        "    # Implement your code here\n",
        "\n",
        "    pass\n",
        "\n",
        "\n",
        "\n",
        "  def get_sentence_transformer_embedding(self, sentence, transformer_name=\"all-MiniLM-L6-v2\"):\n",
        "    \"\"\"\n",
        "    Encode a sentence using sentence transformer and return embedding\n",
        "    \"\"\"\n",
        "\n",
        "    sentenceTransformer = SentenceTransformer(transformer_name)\n",
        "\n",
        "    return sentenceTransformer.encode(sentence)\n",
        "\n",
        "\n",
        "\n",
        "  def get_averaged_glove_embeddings(self, sentence, embeddings_dict):\n",
        "\n",
        "    words = sentence.split(\" \")\n",
        "    glove_embedding = np.zeros(len(embeddings_dict[\"word\"]))\n",
        "\n",
        "    count_words = 0\n",
        "    for word in words:\n",
        "\n",
        "      ## Your Code HERE! (Average the word embeddings to get the sentence embedding)\n"
      ],
      "metadata": {
        "id": "uUXmzPTJSRVM"
      },
      "execution_count": null,
      "outputs": []
    },
    {
      "cell_type": "markdown",
      "source": [
        "## 2. Search Class\n",
        "\n",
        "Implement a class with all the methods needed for search including cosine similarity"
      ],
      "metadata": {
        "id": "24b598R2c_0u"
      }
    },
    {
      "cell_type": "code",
      "source": [
        "import numpy.linalg as la\n",
        "import numpy as np\n",
        "\n",
        "class Search:\n",
        "\n",
        "  def __init__(self):\n",
        "    pass\n",
        "\n",
        "\n",
        "  def cosine_similarity(self, x, y):\n",
        "\n",
        "    return np.dot(x,y)/max(la.norm(x)*la.norm(y),1e-3)\n",
        "\n",
        "  def get_topK_similar_categories(self, sentence, categories):\n",
        "    \"\"\"\n",
        "    Return the most similar categories to a given sentence -\n",
        "    This is a baseline implementation of a semantic search engine\n",
        "    \"\"\"\n",
        "\n",
        "    # Implement your code here\n",
        "    pass\n"
      ],
      "metadata": {
        "id": "GrQEdNu7TZ5I"
      },
      "execution_count": null,
      "outputs": []
    },
    {
      "cell_type": "markdown",
      "source": [
        "## 3. Word Arithmetic\n",
        "\n",
        "Let's test your embeddings. Answer the question below through the search functionality you implemented above"
      ],
      "metadata": {
        "id": "sNINKsVzeodG"
      }
    },
    {
      "cell_type": "code",
      "source": [
        "# 1. What word is \"King-Man + Woman\" closest to between (girl, queen, princess, daughter, mother)\n",
        "\n",
        "\n",
        "# 2. Tesla:Car as Apple:? Choices: (fruit, vegetable, gas)\n",
        "\n",
        "\n"
      ],
      "metadata": {
        "id": "lSvc3yX9etkJ"
      },
      "execution_count": null,
      "outputs": []
    },
    {
      "cell_type": "markdown",
      "source": [
        "## 4. Plots\n",
        "\n",
        "Plot the search results as a pie chart with percentages allocated to the likelihood of the category being related to the search input"
      ],
      "metadata": {
        "id": "wX6jEFiyeSz5"
      }
    },
    {
      "cell_type": "code",
      "source": [
        "def plot_pie_chart(category_simiarity_scores):\n",
        "  pass\n"
      ],
      "metadata": {
        "id": "m0spQHVgdijb"
      },
      "execution_count": null,
      "outputs": []
    },
    {
      "cell_type": "markdown",
      "source": [
        "## 5. Test\n",
        "\n",
        "Test your pie chart against some of the examples in the demo listed here:\n",
        "\n",
        "https://categorysearch.streamlit.app or\n",
        "https://searchdemo.streamlit.app\n",
        "\n",
        "a) Do the results make sense?\n",
        "b) Which embedding gives more meaningful results?\n"
      ],
      "metadata": {
        "id": "suqashxJgEG9"
      }
    },
    {
      "cell_type": "code",
      "source": [
        "input_sentence = \"Roses are red, trucks are blue, and Seattle is grey right now\"\n",
        "categories = \"Flowers Colors Cars Weather Food\"\n",
        "\n",
        "# Your code here\n",
        "search_instance = Search()\n",
        "category_similarity_scores = search_instance.get_topK_similar_categories(input_sentence, categories)\n",
        "\n",
        "plot_pie_chart(category_similarity_scores) # Plot and see"
      ],
      "metadata": {
        "id": "9KjXULYiie1v"
      },
      "execution_count": null,
      "outputs": []
    },
    {
      "cell_type": "markdown",
      "source": [
        "## 6. Bonus (if time permits)!\n",
        "Create a simple streamlit or equivalent webapp like the link in 5.\n",
        "This is also part of your Mini-Project 1!"
      ],
      "metadata": {
        "id": "Vj2Gv_EdiE8n"
      }
    },
    {
      "cell_type": "code",
      "source": [],
      "metadata": {
        "id": "ugmuNVV_fwJI"
      },
      "execution_count": null,
      "outputs": []
    }
  ]
}
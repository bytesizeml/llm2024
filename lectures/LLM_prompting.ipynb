{
  "nbformat": 4,
  "nbformat_minor": 0,
  "metadata": {
    "colab": {
      "provenance": [],
      "machine_shape": "hm",
      "gpuType": "A100"
    },
    "kernelspec": {
      "name": "python3",
      "display_name": "Python 3"
    },
    "language_info": {
      "name": "python"
    },
    "accelerator": "GPU"
  },
  "cells": [
    {
      "cell_type": "markdown",
      "source": [
        "## LLM Prompting In-class walkthrough\n",
        "\n",
        "Includes:\n",
        "a) Walkthrough of prompting principles and examples.\n",
        "b) Also includes In-class exercise for a bonus 2% credit towards overall grade."
      ],
      "metadata": {
        "id": "cQq-fZUFEomq"
      }
    },
    {
      "cell_type": "code",
      "source": [],
      "metadata": {
        "id": "m4p3fCsUEoOD"
      },
      "execution_count": null,
      "outputs": []
    },
    {
      "cell_type": "markdown",
      "source": [
        "## Install Libraries"
      ],
      "metadata": {
        "id": "pSxZWcAR38gB"
      }
    },
    {
      "cell_type": "code",
      "execution_count": 1,
      "metadata": {
        "colab": {
          "base_uri": "https://localhost:8080/"
        },
        "id": "3PmBvrSE3qRO",
        "outputId": "429bd8cf-fe3c-4268-bf25-95f1cd3dc2b5"
      },
      "outputs": [
        {
          "output_type": "stream",
          "name": "stdout",
          "text": [
            "Requirement already satisfied: openai in /usr/local/lib/python3.10/dist-packages (1.10.0)\n",
            "Requirement already satisfied: anyio<5,>=3.5.0 in /usr/local/lib/python3.10/dist-packages (from openai) (3.7.1)\n",
            "Requirement already satisfied: distro<2,>=1.7.0 in /usr/lib/python3/dist-packages (from openai) (1.7.0)\n",
            "Requirement already satisfied: httpx<1,>=0.23.0 in /usr/local/lib/python3.10/dist-packages (from openai) (0.26.0)\n",
            "Requirement already satisfied: pydantic<3,>=1.9.0 in /usr/local/lib/python3.10/dist-packages (from openai) (1.10.14)\n",
            "Requirement already satisfied: sniffio in /usr/local/lib/python3.10/dist-packages (from openai) (1.3.0)\n",
            "Requirement already satisfied: tqdm>4 in /usr/local/lib/python3.10/dist-packages (from openai) (4.66.1)\n",
            "Requirement already satisfied: typing-extensions<5,>=4.7 in /usr/local/lib/python3.10/dist-packages (from openai) (4.9.0)\n",
            "Requirement already satisfied: idna>=2.8 in /usr/local/lib/python3.10/dist-packages (from anyio<5,>=3.5.0->openai) (3.6)\n",
            "Requirement already satisfied: exceptiongroup in /usr/local/lib/python3.10/dist-packages (from anyio<5,>=3.5.0->openai) (1.2.0)\n",
            "Requirement already satisfied: certifi in /usr/local/lib/python3.10/dist-packages (from httpx<1,>=0.23.0->openai) (2023.11.17)\n",
            "Requirement already satisfied: httpcore==1.* in /usr/local/lib/python3.10/dist-packages (from httpx<1,>=0.23.0->openai) (1.0.2)\n",
            "Requirement already satisfied: h11<0.15,>=0.13 in /usr/local/lib/python3.10/dist-packages (from httpcore==1.*->httpx<1,>=0.23.0->openai) (0.14.0)\n",
            "Requirement already satisfied: python-dotenv in /usr/local/lib/python3.10/dist-packages (1.0.1)\n"
          ]
        }
      ],
      "source": [
        "!pip3 install openai\n",
        "!pip3 install python-dotenv"
      ]
    },
    {
      "cell_type": "markdown",
      "source": [
        "## Connect Google Colab to your Google Drive"
      ],
      "metadata": {
        "id": "LV4PsPL8rNmQ"
      }
    },
    {
      "cell_type": "code",
      "source": [
        "from google.colab import drive\n",
        "drive.mount('/content/drive/', force_remount=True)\n",
        "\n",
        "import os\n",
        "print(os.system('ls'))\n",
        "\n",
        "#os.chdir(os.curdir + \"/drive/MyDrive/Colab_Demo_ChatGPT\")\n",
        "os.chdir(os.curdir + \"/drive/MyDrive/Colab_Notebooks_LLM_2023\")"
      ],
      "metadata": {
        "colab": {
          "base_uri": "https://localhost:8080/"
        },
        "id": "X5I31cpF3xOV",
        "outputId": "622501ca-8687-4451-9dcd-02fed6320151"
      },
      "execution_count": 2,
      "outputs": [
        {
          "output_type": "stream",
          "name": "stdout",
          "text": [
            "Mounted at /content/drive/\n",
            "0\n"
          ]
        }
      ]
    },
    {
      "cell_type": "markdown",
      "source": [
        "## OPEN AI ACCESS"
      ],
      "metadata": {
        "id": "GOyGGTuC4Ty9"
      }
    },
    {
      "cell_type": "code",
      "source": [
        "import openai\n",
        "import os\n",
        "\n",
        "open_ai_key_file = \"openai_api_key_llm_2023.txt\" # Your OPEN AI Key in this file\n",
        "with open(open_ai_key_file, \"r\") as f:\n",
        "  for line in f:\n",
        "    OPENAI_KEY = line\n",
        "    break\n",
        "\n",
        "from dotenv import load_dotenv, find_dotenv\n",
        "_ = load_dotenv(find_dotenv())\n",
        "\n",
        "openai.api_key  = OPENAI_KEY"
      ],
      "metadata": {
        "id": "peQ_A0Hq4MGN"
      },
      "execution_count": 3,
      "outputs": []
    },
    {
      "cell_type": "markdown",
      "source": [
        "## Response from OPEN AI"
      ],
      "metadata": {
        "id": "kTPxs1J-66Dz"
      }
    },
    {
      "cell_type": "code",
      "source": [
        "from openai import OpenAI\n",
        "client = OpenAI(api_key=OPENAI_KEY)\n",
        "def get_completion_instruct(prompt, model=\"gpt-3.5-turbo-instruct\"):\n",
        "    response = client.completions.create(\n",
        "        model=model,\n",
        "        prompt=prompt\n",
        "    )\n",
        "    #return response.choices[0].text\n",
        "    return response.choices[0].text\n",
        "\n",
        "def get_completion(prompt, model=\"gpt-3.5-turbo\"):\n",
        "  message = {\"role\": \"user\", \"content\": prompt}\n",
        "  response = client.chat.completions.create(\n",
        "      model=model,\n",
        "      messages=[message]\n",
        "  )\n",
        "  return response.choices[0].message.content"
      ],
      "metadata": {
        "id": "pQ6Z8EVl5kzv"
      },
      "execution_count": 4,
      "outputs": []
    },
    {
      "cell_type": "markdown",
      "source": [
        "## Visual Steps Task based on a given example"
      ],
      "metadata": {
        "id": "VdtLCUaPzXCz"
      }
    },
    {
      "cell_type": "code",
      "source": [
        "prompt = f\"\"\"Make the bed steps are :\n",
        "put the sheet on the bed\n",
        "insert the quilt into the quilt cover\n",
        "put the quilt on the bed\n",
        "insert the pillow into the pillow cover\n",
        "put the pillow on the bed.   Similarly, provide the steps of \"fix my flat tire\" that are visually seen and number them. No need to explain the steps.\"\"\"\n",
        "\n",
        "model = \"gpt-3.5-turbo-instruct\"\n",
        "response = get_completion_instruct(prompt,model)\n",
        "print(\"model = \", model)\n",
        "print(response)\n",
        "print(\"\\n\\n\")\n",
        "\n",
        "model = \"gpt-3.5-turbo\"\n",
        "print(\"model = \", model)\n",
        "print(\"\\n\")\n",
        "response = get_completion(prompt,model)\n",
        "print(response)\n",
        "print(\"\\n\\n\")\n",
        "\n",
        "model = \"gpt-4\"\n",
        "print(\"model = \", model)\n",
        "print(\"\\n\")\n",
        "response = get_completion(prompt,model)\n",
        "print(response)"
      ],
      "metadata": {
        "colab": {
          "base_uri": "https://localhost:8080/"
        },
        "id": "nvoXyqiVybXx",
        "outputId": "a39d8c00-2eab-4f39-85a3-f35c3aa7eed7"
      },
      "execution_count": 5,
      "outputs": [
        {
          "output_type": "stream",
          "name": "stdout",
          "text": [
            "model =  gpt-3.5-turbo-instruct\n",
            "\n",
            "1. Check for a safe and level area to change the tire.\n",
            "2\n",
            "\n",
            "\n",
            "\n",
            "model =  gpt-3.5-turbo\n",
            "\n",
            "\n",
            "Steps to Fix a Flat Tire:\n",
            "\n",
            "1. Gather necessary tools and materials\n",
            "2. Loosen the lug nuts on the flat tire\n",
            "3. Use a jack to lift the car off the ground\n",
            "4. Remove the lug nuts and pull off the flat tire\n",
            "5. Mount the spare tire onto the car\n",
            "6. Hand-tighten the lug nuts onto the spare tire\n",
            "7. Lower the car back down using the jack\n",
            "8. Fully tighten the lug nuts\n",
            "9. Double-check that all lug nuts are secure\n",
            "10. Put away tools and materials\n",
            "\n",
            "\n",
            "\n",
            "model =  gpt-4\n",
            "\n",
            "\n",
            "1. Identify the flat tire \n",
            "2. Loosen the lug nuts on the flat tire\n",
            "3. Use a car jack to lift the vehicle off the ground\n",
            "4. Fully unscrew and remove the lug nuts\n",
            "5. Remove the flat tire from the axle\n",
            "6. Place the spare tire on the axle\n",
            "7. Hand-tighten the lug nuts onto the spare tire\n",
            "8. Lower the vehicle halfway using the car jack\n",
            "9. Fully tighten the lug nuts onto the spare tire\n",
            "10. Lower the vehicle completely to the ground\n",
            "11. Check the tire pressure in the spare tire\n",
            "12. Put away your tools and flat tire.\n"
          ]
        }
      ]
    },
    {
      "cell_type": "markdown",
      "source": [
        "## Prompt for KeyWord Extraction"
      ],
      "metadata": {
        "id": "S9j9YoL889EL"
      }
    },
    {
      "cell_type": "code",
      "source": [
        "def get_keywords_from_text(text_list):\n",
        "  if not isinstance(text_list,list):\n",
        "    text_list = [text_list]\n",
        "\n",
        "  num_strings = len(text_list)\n",
        "\n",
        "  prompt = f\"\"\"\n",
        "  Here's a list of \"\"\" + str(num_strings) + f\"\"\" string given by the text delimited by 3 quotes: ```{text_list}```.\n",
        "  For each string in the list, generate at least two key words and at most 3 key words.\n",
        "  Return result as a list.\n",
        "  The key word should be relevant to the text\n",
        "  and each key word can capture a different popular theme of interest for wisdom\n",
        "  seekers.\n",
        "  The key word doesn't have to be present in the text. Also key word shouldn't\n",
        "  have a space in it.\n",
        "  \"\"\"\n",
        "\n",
        "\n",
        "  responses = get_completion(prompt)\n",
        "\n",
        "  return responses"
      ],
      "metadata": {
        "id": "MwIBDdfH6nPN"
      },
      "execution_count": 6,
      "outputs": []
    },
    {
      "cell_type": "code",
      "source": [
        "text = \"\"\"\n",
        "  BECOMING DEFENSELESS\n",
        "\n",
        "Whenever a boundary is broken, it creates some fear. The fear creates dislike. This dislike puts us back in the boundary. And to keep yourself in the boundary you put forth defenses. When you try to defend your position, it is such a stress, isn't it? And every time you try to defend your position it makes you more and more weak.\n",
        "\n",
        "On the path, people even use the Knowledge as a defense against criticism! Don't use Knowledge as a defense.\n",
        "\n",
        "The Knowledge is like an umbrella for you -- a shelter, not a weapon. Of course, sometimes \"Don't use Knowledge as a weapon\" becomes an excuse not to be in Knowledge! (Laughter)\n",
        "\n",
        "I say, drop all your defenses. Anybody can make a mistake. Even you!\n",
        "\n",
        "Don't defend your mistakes. Just accept them and move on. When you are totally defenseless, that's when you'll be strong.\n",
        "\n",
        "  \"\"\"\n",
        "\n",
        "print(get_keywords_from_text(text))"
      ],
      "metadata": {
        "colab": {
          "base_uri": "https://localhost:8080/"
        },
        "id": "SAQGAUZB_6sS",
        "outputId": "cb755f9a-2201-4590-e8d2-a46423e2f258"
      },
      "execution_count": 7,
      "outputs": [
        {
          "output_type": "stream",
          "name": "stdout",
          "text": [
            "['boundaries', 'defenselessness', 'wisdom seekers']\n"
          ]
        }
      ]
    },
    {
      "cell_type": "markdown",
      "source": [
        "## Download and Load Data"
      ],
      "metadata": {
        "id": "ddyQUoO_-d9M"
      }
    },
    {
      "cell_type": "code",
      "source": [
        "def load_all_data(web_link):\n",
        "  \"\"\"\n",
        "  Each data point/text is one page from a book\n",
        "  \"\"\"\n",
        "  path = \"wisdom\"\n",
        "  files = os.listdir(path)\n",
        "\n",
        "  text_dict = {}\n",
        "  for file in files:\n",
        "    with open(path + \"/\" + file, \"r\") as f:\n",
        "      sheet = f.readlines()\n",
        "      sheet = [line.strip(\"\\n\") for line in sheet]\n",
        "      sheet = [line for line in sheet if line]\n",
        "      # Return the sheet as a single string\n",
        "      text_dict[file.split(\".\")[0]] = \" \".join(sheet)\n",
        "\n",
        "  return text_dict\n",
        "\n",
        "def load_all_data_from_path(path):\n",
        "\n",
        "  text_dict = {}\n",
        "  with open(path, \"r\") as f:\n",
        "    index = 0\n",
        "    for line in f:\n",
        "      text_dict[index] = line.strip(\"\\n\")\n",
        "      index += 1\n",
        "\n",
        "  return text_dict\n",
        "\n",
        "# Download data to \"quotes.txt\" file\n",
        "!wget https://gist.githubusercontent.com/robatron/a66acc0eed3835119817/raw/77493d3ddf69fbd9d69997e22e1a7c6c70c8bdf2/quotes.txt\n",
        "path = \"quotes.txt\"\n",
        "text_dict = load_all_data_from_path(path)"
      ],
      "metadata": {
        "id": "4qOQOK_y-fov"
      },
      "execution_count": 15,
      "outputs": []
    },
    {
      "cell_type": "code",
      "source": [
        "text_dict"
      ],
      "metadata": {
        "colab": {
          "base_uri": "https://localhost:8080/"
        },
        "id": "e2NyrnKK6k3M",
        "outputId": "f74fd08d-b00e-4cfb-c812-65989431d9e3"
      },
      "execution_count": 16,
      "outputs": [
        {
          "output_type": "execute_result",
          "data": {
            "text/plain": [
              "{0: 'If you want to achieve greatness stop asking for permission. ~Anonymous',\n",
              " 1: 'Things work out best for those who make the best of how things work out. ~John Wooden',\n",
              " 2: 'To live a creative life, we must lose our fear of being wrong. ~Anonymous',\n",
              " 3: 'If you are not willing to risk the usual you will have to settle for the ordinary. ~Jim Rohn',\n",
              " 4: \"Trust because you are willing to accept the risk, not because it's safe or certain. ~Anonymous\",\n",
              " 5: 'Take up one idea. Make that one idea your life - think of it, dream of it, live on that idea. Let the brain, muscles, nerves, every part of your body, be full of that idea, and just leave every other idea alone. This is the way to success. ~Swami Vivekananda',\n",
              " 6: 'All our dreams can come true if we have the courage to pursue them. ~Walt Disney',\n",
              " 7: 'Good things come to people who wait, but better things come to those who go out and get them. ~Anonymous',\n",
              " 8: 'If you do what you always did, you will get what you always got. ~Anonymous',\n",
              " 9: 'Success is walking from failure to failure with no loss of enthusiasm. ~Winston Churchill',\n",
              " 10: 'Just when the caterpillar thought the world was ending, he turned into a butterfly. ~Proverb',\n",
              " 11: 'Successful entrepreneurs are givers and not takers of positive energy. ~Anonymous',\n",
              " 12: 'Whenever you see a successful person you only see the public glories, never the private sacrifices to reach them. ~Vaibhav Shah',\n",
              " 13: \"Opportunities don't happen, you create them. ~Chris Grosser\",\n",
              " 14: 'Try not to become a person of success, but rather try to become a person of value. ~Albert Einstein',\n",
              " 15: 'Great minds discuss ideas; average minds discuss events; small minds discuss people. ~Eleanor Roosevelt',\n",
              " 16: \"I have not failed. I've just found 10,000 ways that won't work. ~Thomas A. Edison\",\n",
              " 17: \"If you don't value your time, neither will others. Stop giving away your time and talents- start charging for it. ~Kim Garst\",\n",
              " 18: 'A successful man is one who can lay a firm foundation with the bricks others have thrown at him. ~David Brinkley',\n",
              " 19: 'No one can make you feel inferior without your consent. ~Eleanor Roosevelt',\n",
              " 20: \"The whole secret of a successful life is to find out what is one's destiny to do, and then do it. ~Henry Ford\",\n",
              " 21: \"If you're going through hell keep going. ~Winston Churchill\",\n",
              " 22: 'The ones who are crazy enough to think they can change the world, are the ones that do. ~Anonymous',\n",
              " 23: \"Don't raise your voice, improve your argument. ~Anonymous\",\n",
              " 24: 'What seems to us as bitter trials are often blessings in disguise.~ Oscar Wilde',\n",
              " 25: 'The meaning of life is to find your gift. The purpose of life is to give it away. ~Anonymous',\n",
              " 26: 'The distance between insanity and genius is measured only by success. ~Bruce Feirstein',\n",
              " 27: 'When you stop chasing the wrong things you give the right things a chance to catch you. ~Lolly Daskal',\n",
              " 28: \"Don't be afraid to give up the good to go for the great. ~John D. Rockefeller\",\n",
              " 29: 'No masterpiece was ever created by a lazy artist.~ Anonymous',\n",
              " 30: 'Happiness is a butterfly, which when pursued, is always beyond your grasp, but which, if you will sit down quietly, may alight upon you. ~Nathaniel Hawthorne',\n",
              " 31: \"If you can't explain it simply, you don't understand it well enough. ~Albert Einstein\",\n",
              " 32: 'Blessed are those who can give without remembering and take without forgetting. ~Anonymous',\n",
              " 33: 'Do one thing every day that scares you. ~Anonymous',\n",
              " 34: \"What's the point of being alive if you don't at least try to do something remarkable. ~Anonymous\",\n",
              " 35: 'Life is not about finding yourself. Life is about creating yourself. ~Lolly Daskal',\n",
              " 36: 'Nothing in the world is more common than unsuccessful people with talent. ~Anonymous',\n",
              " 37: 'Knowledge is being aware of what you can do. Wisdom is knowing when not to do it. ~Anonymous',\n",
              " 38: \"Your problem isn't the problem. Your reaction is the problem. ~Anonymous\",\n",
              " 39: 'You can do anything, but not everything. ~Anonymous',\n",
              " 40: 'Innovation distinguishes between a leader and a follower. ~Steve Jobs',\n",
              " 41: 'There are two types of people who will tell you that you cannot make a difference in this world: those who are afraid to try and those who are afraid you will succeed. ~Ray Goforth',\n",
              " 42: 'Thinking should become your capital asset, no matter whatever ups and downs you come across in your life. ~Dr. APJ Kalam',\n",
              " 43: 'I find that the harder I work, the more luck I seem to have. ~Thomas Jefferson',\n",
              " 44: 'The starting point of all achievement is desire. ~Napolean Hill',\n",
              " 45: 'Success is the sum of small efforts, repeated day-in and day-out. ~Robert Collier',\n",
              " 46: 'If you want to achieve excellence, you can get there today. As of this second, quit doing less-than-excellent work. ~Thomas J. Watson',\n",
              " 47: 'All progress takes place outside the comfort zone. ~Michael John Bobak',\n",
              " 48: 'You may only succeed if you desire succeeding; you may only fail if you do not mind failing. ~Philippos',\n",
              " 49: 'Courage is resistance to fear, mastery of fear - not absense of fear. ~Mark Twain',\n",
              " 50: 'Only put off until tomorrow what you are willing to die having left undone. ~Pablo Picasso',\n",
              " 51: \"People often say that motivation doesn't last. Well, neither does bathing - that's why we recommend it daily. ~Zig Ziglar\",\n",
              " 52: \"We become what we think about most of the time, and that's the strangest secret. ~Earl Nightingale\",\n",
              " 53: 'The only place where success comes before work is in the dictionary. ~Vidal Sassoon',\n",
              " 54: 'The best reason to start an organization is to make meaning; to create a product or service to make the world a better place. ~Guy Kawasaki',\n",
              " 55: 'I find that when you have a real interest in life and a curious life, that sleep is not the most important thing. ~Martha Stewart',\n",
              " 56: \"It's not what you look at that matters, it's what you see. ~Anonymous\",\n",
              " 57: 'The road to success and the road to failure are almost exactly the same. ~Colin R. Davis',\n",
              " 58: 'The function of leadership is to produce more leaders, not more followers. ~Ralph Nader',\n",
              " 59: 'Success is liking yourself, liking what you do, and liking how you do it. ~Maya Angelou',\n",
              " 60: 'As we look ahead into the next century, leaders will be those who empower others. ~Bill Gates',\n",
              " 61: 'A real entrepreneur is somebody who has no safety net underneath them. ~Henry Kravis',\n",
              " 62: 'The first step toward success is taken when you refuse to be a captive of the environment in which you first find yourself. ~Mark Caine',\n",
              " 63: 'People who succeed have momentum. The more they succeed, the more they want to succeed, and the more they find a way to succeed. Similarly, when someone is failing, the tendency is to get on a downward spiral that can even become a self-fulfilling prophecy. ~Tony Robbins',\n",
              " 64: 'When I dare to be powerful - to use my strength in the service of my vision, then it becomes less and less important whether I am afraid. ~Audre Lorde',\n",
              " 65: 'Whenever you find yourself on the side of the majority, it is time to pause and reflect. ~Mark Twain',\n",
              " 66: 'The successful warrior is the average man, with laser-like focus. ~Bruce Lee',\n",
              " 67: 'Take up one idea. Make that one idea your life -- think of it, dream of it, live on that idea. Let the brain, muscles, nerves, every part of your body, be full of that idea, and just leave every other idea alone. This is the way to success. ~Swami Vivekananda',\n",
              " 68: 'Develop success from failures. Discouragement and failure are two of the surest stepping stones to success. ~Dale Carnegie',\n",
              " 69: \"If you don't design your own life plan, chances are you'll fall into someone else's plan. And guess what they have planned for you? Not much. ~ Jim Rohn\",\n",
              " 70: \"If you genuinely want something, don't wait for it -- teach yourself to be impatient. ~Gurbaksh Chahal\",\n",
              " 71: \"Don't let the fear of losing be greater than the excitement of winning. ~Robert Kiyosaki\",\n",
              " 72: 'If you want to make a permanent change, stop focusing on the size of your problems and start focusing on the size of you! ~T. Harv Eker',\n",
              " 73: \"You can't connect the dots looking forward; you can only connect them looking backwards. So you have to trust that the dots will somehow connect in your future. You have to trust in something - your gut, destiny, life, karma, whatever. This approach has never let me down, and it has made all the difference in my life. ~Steve Jobs\",\n",
              " 74: \"Successful people do what unsuccessful people are not willing to do. Don't wish it were easier, wish you were better. ~Jim Rohn\",\n",
              " 75: 'The number one reason people fail in life is because they listen to their friends, family, and neighbors. ~Napoleon Hill',\n",
              " 76: \"The reason most people never reach their goals is that they don't define them, or ever seriously consider them as believable or achievable. Winners can tell you where they are going, what they plan to do along the way, and who will be sharing the adventure with them. ~Denis Watiley\",\n",
              " 77: 'In my experience, there is only one motivation, and that is desire. No reasons or principle contain it or stand against it. ~Jane Smiley',\n",
              " 78: 'Success does not consist in never making mistakes but in never making the same one a second time. ~George Bernard Shaw',\n",
              " 79: \"I don't want to get to the end of my life and find that I lived just the length of it. I want to have lived the width of it as well. ~Diane Ackerman\",\n",
              " 80: 'You must expect great things of yourself before you can do them. ~Michael Jordan',\n",
              " 81: 'Motivation is what gets you started. Habit is what keeps you going. ~Jim Ryun',\n",
              " 82: 'People rarely succeed unless they have fun in what they are doing. ~Dale Carnegie',\n",
              " 83: 'There is no chance, no destiny, no fate, that can hinder or control the firm resolve of a determined soul. ~Ella Wheeler Wilcox',\n",
              " 84: \"Our greatest fear should not be of failure but of succeeding at things in life that don't really matter. ~Francis Chan\",\n",
              " 85: \"You've got to get up every morning with determination if you're going to go to bed with satisfaction. ~George Lorimer\",\n",
              " 86: \"To be successful you must accept all challenges that come your way. You can't just accept the ones you like. ~Mike Gafka\",\n",
              " 87: 'Success is...knowing your purpose in life, growing to reach your maximum potential, and sowing seeds that benefit others. ~ John C. Maxwell',\n",
              " 88: \"Be miserable. Or motivate yourself. Whatever has to be done, it's always your choice. ~Wayne Dyer\",\n",
              " 89: 'To accomplish great things, we must not only act, but also dream, not only plan, but also believe.~ Anatole France',\n",
              " 90: 'Most of the important things in the world have been accomplished by people who have kept on trying when there seemed to be no help at all. ~Dale Carnegie',\n",
              " 91: 'You measure the size of the accomplishment by the obstacles you had to overcome to reach your goals. ~Booker T. Washington',\n",
              " 92: 'Real difficulties can be overcome; it is only the imaginary ones that are unconquerable. ~Theodore N. Vail',\n",
              " 93: 'It is better to fail in originality than to succeed in imitation. ~Herman Melville',\n",
              " 94: 'Fortune sides with him who dares. ~Virgil',\n",
              " 95: 'Little minds are tamed and subdued by misfortune; but great minds rise above it. ~Washington Irving',\n",
              " 96: 'Failure is the condiment that gives success its flavor. ~Truman Capote',\n",
              " 97: \"Don't let what you cannot do interfere with what you can do. ~John R. Wooden\",\n",
              " 98: 'You may have to fight a battle more than once to win it. ~Margaret Thatcher'}"
            ]
          },
          "metadata": {},
          "execution_count": 16
        }
      ]
    },
    {
      "cell_type": "code",
      "source": [],
      "metadata": {
        "colab": {
          "base_uri": "https://localhost:8080/"
        },
        "id": "QsguWw7RZrnC",
        "outputId": "04381cbd-f134-4f05-8350-a9321ed96cf2"
      },
      "execution_count": 11,
      "outputs": [
        {
          "output_type": "stream",
          "name": "stdout",
          "text": [
            "--2024-02-01 23:04:19--  https://gist.githubusercontent.com/robatron/a66acc0eed3835119817/raw/77493d3ddf69fbd9d69997e22e1a7c6c70c8bdf2/quotes.txt\n",
            "Resolving gist.githubusercontent.com (gist.githubusercontent.com)... 185.199.108.133, 185.199.109.133, 185.199.110.133, ...\n",
            "Connecting to gist.githubusercontent.com (gist.githubusercontent.com)|185.199.108.133|:443... connected.\n",
            "HTTP request sent, awaiting response... 200 OK\n",
            "Length: 10641 (10K) [text/plain]\n",
            "Saving to: ‘quotes.txt.2’\n",
            "\n",
            "\rquotes.txt.2          0%[                    ]       0  --.-KB/s               \rquotes.txt.2        100%[===================>]  10.39K  --.-KB/s    in 0.002s  \n",
            "\n",
            "2024-02-01 23:04:19 (5.61 MB/s) - ‘quotes.txt.2’ saved [10641/10641]\n",
            "\n"
          ]
        }
      ]
    },
    {
      "cell_type": "code",
      "source": [
        "!ls"
      ],
      "metadata": {
        "colab": {
          "base_uri": "https://localhost:8080/"
        },
        "id": "WoCA4ipZZw3t",
        "outputId": "1bd84c1f-7ca0-404b-bece-a85d91fdd886"
      },
      "execution_count": 17,
      "outputs": [
        {
          "output_type": "stream",
          "name": "stdout",
          "text": [
            "'Category Search LLM Demo'\t\t\t\t  'Nov_18_2023 In-class Exercise'\n",
            " flowers\t\t\t\t\t\t   openai_api_key_llm_2023.gdoc\n",
            " flowers_kaggle.zip\t\t\t\t\t   openai_api_key_llm_2023.txt\n",
            " image_caption_finetuned_model\t\t\t\t   quotes.txt\n",
            " image_search.png\t\t\t\t\t   quotes.txt.1\n",
            "'Jan_16_In_Class_Assignment ECE UW, PMP course LLM 2024'   quotes.txt.2\n",
            " Kaggle_Contest_Detect_AI_Generated_Text\t\t   serpapi_key.txt\n",
            "'Langchain-1-Deeplearning.ai short course'\t\t   serpapi_key.txt.gdoc\n",
            "'Langchain Discrepancy'\t\t\t\t\t   StreamLitWorking\n",
            " LLM_prompting.ipynb\t\t\t\t\t  'Text to Image Demo.ipynb'\n",
            " Nov12_inclass_exercise.ipynb\t\t\t\t   the_way_of_peace.txt\n",
            "'Nov_18_2023 Class Walkthrough'\n"
          ]
        }
      ]
    },
    {
      "cell_type": "markdown",
      "source": [
        "## Generate Keywords for Hundreds of Docs"
      ],
      "metadata": {
        "id": "-h62Uyac__pK"
      }
    },
    {
      "cell_type": "code",
      "source": [
        "import time\n",
        "\n",
        "def generate_keywords_for_single_text(text):\n",
        "\n",
        "  prompt = f\"\"\"\n",
        "  Here's a text  de-limited by 3 quotes: ```{text}```.\n",
        "  Generate three distinct keywords that capture the most important topics in the text.\n",
        "  The key word doesn't have to be present in the text. Also key word shouldn't\n",
        "  have a space in it. Make sure the key word is just one word and not two words joined.\n",
        "  \"\"\"\n",
        "\n",
        "  #Make sure the key word is just one word and not two words joined.\n",
        "\n",
        "  response = get_completion(prompt)\n",
        "\n",
        "  return response\n",
        "\n",
        "\n",
        "def generate_keywords_for_all_text(text_dict):\n",
        "\n",
        "  keywords_dict = {}\n",
        "  count = 0\n",
        "  count_max = 17\n",
        "  for key in text_dict:\n",
        "    text = text_dict[key]\n",
        "    response = generate_keywords_for_single_text(text)\n",
        "    keywords_dict[key] = response\n",
        "    print(\"key = \", key)\n",
        "    print(text)\n",
        "    print(response)\n",
        "    print(\"\\n\")\n",
        "    time.sleep(0.3)\n",
        "    count += 1\n",
        "    if count > count_max:\n",
        "      break"
      ],
      "metadata": {
        "id": "_zQz9ayg9hgO"
      },
      "execution_count": 18,
      "outputs": []
    },
    {
      "cell_type": "markdown",
      "source": [
        "## Application 1:\n",
        "## Generating Keywords for Hundreds of texts"
      ],
      "metadata": {
        "id": "E6wOTVbJ9Hve"
      }
    },
    {
      "cell_type": "code",
      "source": [
        "generate_keywords_for_all_text(text_dict)"
      ],
      "metadata": {
        "colab": {
          "base_uri": "https://localhost:8080/"
        },
        "id": "5M4A2B4O7X--",
        "outputId": "9e17eaee-db12-4007-f6af-d7322220a0d1"
      },
      "execution_count": 19,
      "outputs": [
        {
          "output_type": "stream",
          "name": "stdout",
          "text": [
            "key =  0\n",
            "If you want to achieve greatness stop asking for permission. ~Anonymous\n",
            "Keywords: greatness, permission, achievement\n",
            "\n",
            "\n",
            "key =  1\n",
            "Things work out best for those who make the best of how things work out. ~John Wooden\n",
            "1. Resilience\n",
            "2. Adaptability\n",
            "3. Success\n",
            "\n",
            "\n",
            "key =  2\n",
            "To live a creative life, we must lose our fear of being wrong. ~Anonymous\n",
            "1. Creativity\n",
            "2. Fearlessness\n",
            "3. Mistakes\n",
            "\n",
            "\n",
            "key =  3\n",
            "If you are not willing to risk the usual you will have to settle for the ordinary. ~Jim Rohn\n",
            "1. Risk\n",
            "2. Ordinary\n",
            "3. Settle\n",
            "\n",
            "\n",
            "key =  4\n",
            "Trust because you are willing to accept the risk, not because it's safe or certain. ~Anonymous\n",
            "1. Trust\n",
            "2. Risk\n",
            "3. Uncertainty\n",
            "\n",
            "\n",
            "key =  5\n",
            "Take up one idea. Make that one idea your life - think of it, dream of it, live on that idea. Let the brain, muscles, nerves, every part of your body, be full of that idea, and just leave every other idea alone. This is the way to success. ~Swami Vivekananda\n",
            "idea, success, Swami\n",
            "\n",
            "\n",
            "key =  6\n",
            "All our dreams can come true if we have the courage to pursue them. ~Walt Disney\n",
            "1. Dreams\n",
            "2. Courage\n",
            "3. Pursuit\n",
            "\n",
            "\n",
            "key =  7\n",
            "Good things come to people who wait, but better things come to those who go out and get them. ~Anonymous\n",
            "1. Patience\n",
            "2. Proactivity\n",
            "3. Achievement\n",
            "\n",
            "\n",
            "key =  8\n",
            "If you do what you always did, you will get what you always got. ~Anonymous\n",
            "1. Consistency\n",
            "2. Progression\n",
            "3. Results\n",
            "\n",
            "\n",
            "key =  9\n",
            "Success is walking from failure to failure with no loss of enthusiasm. ~Winston Churchill\n",
            "1. Success\n",
            "2. Failure\n",
            "3. Enthusiasm\n",
            "\n",
            "\n",
            "key =  10\n",
            "Just when the caterpillar thought the world was ending, he turned into a butterfly. ~Proverb\n",
            "1. Transformation\n",
            "2. Resilience\n",
            "3. Metamorphosis\n",
            "\n",
            "\n",
            "key =  11\n",
            "Successful entrepreneurs are givers and not takers of positive energy. ~Anonymous\n",
            "entrepreneurship, energy, givers\n",
            "\n",
            "\n",
            "key =  12\n",
            "Whenever you see a successful person you only see the public glories, never the private sacrifices to reach them. ~Vaibhav Shah\n",
            "success, sacrifices, reach\n",
            "\n",
            "\n",
            "key =  13\n",
            "Opportunities don't happen, you create them. ~Chris Grosser\n",
            "1. Opportunities\n",
            "2. Creation\n",
            "3. Growth\n",
            "\n",
            "\n",
            "key =  14\n",
            "Try not to become a person of success, but rather try to become a person of value. ~Albert Einstein\n",
            "1. Success\n",
            "2. Value\n",
            "3. Achievement\n",
            "\n",
            "\n",
            "key =  15\n",
            "Great minds discuss ideas; average minds discuss events; small minds discuss people. ~Eleanor Roosevelt\n",
            "ideas, events, people\n",
            "\n",
            "\n",
            "key =  16\n",
            "I have not failed. I've just found 10,000 ways that won't work. ~Thomas A. Edison\n",
            "1. Failure\n",
            "2. Invention\n",
            "3. Persistence\n",
            "\n",
            "\n",
            "key =  17\n",
            "If you don't value your time, neither will others. Stop giving away your time and talents- start charging for it. ~Kim Garst\n",
            "1. TimeManagement\n",
            "2. Value\n",
            "3. Charging\n",
            "\n",
            "\n"
          ]
        }
      ]
    },
    {
      "cell_type": "markdown",
      "source": [
        "## Application 2:\n",
        "## Data Augmentation: Generate questions for the text to form Q,A pairs that can be used for model training"
      ],
      "metadata": {
        "id": "Be6GmJogCmN4"
      }
    },
    {
      "cell_type": "code",
      "source": [
        "def generate_questions_for_single_text(text):\n",
        "\n",
        "  prompt = f\"\"\"\n",
        "  Here's a text  de-limited by 3 quotes: ```{text}```.\n",
        "  Generate two distinct questions whose answer would be the text.\n",
        "  Limit the length of question to 100 characters\n",
        "  and keep the questions practical and relevant to people's lives. Also make\n",
        "  the question a good match to the text as a answer. One question should be something\n",
        "  a 5 year old wold ask and the second question is something a mature adult would ask.\n",
        "  \"\"\"\n",
        "\n",
        "  response = get_completion(prompt)\n",
        "\n",
        "  return response\n",
        "\n",
        "def generate_questions_for_all_knowledge_sheets(text_dict):\n",
        "\n",
        "  questions_dict = {}\n",
        "  count = 0\n",
        "  count_max = 9\n",
        "  for key in text_dict:\n",
        "    text = text_dict[key]\n",
        "    success = False\n",
        "    while not success:\n",
        "      try:\n",
        "        response = generate_questions_for_single_text(text)\n",
        "      except:\n",
        "        print(\"Going to try again...\")\n",
        "        time.sleep(0.1)\n",
        "        continue\n",
        "      success = True\n",
        "    questions_dict[key] = response\n",
        "    print(\"key = \", key)\n",
        "    print(response)\n",
        "    print(text)\n",
        "    print(\"\\n\")\n",
        "    count += 1\n",
        "    if count > count_max:\n",
        "      break"
      ],
      "metadata": {
        "id": "9ymMBs7wATa8"
      },
      "execution_count": 20,
      "outputs": []
    },
    {
      "cell_type": "code",
      "source": [
        "generate_questions_for_all_knowledge_sheets(text_dict)"
      ],
      "metadata": {
        "colab": {
          "base_uri": "https://localhost:8080/"
        },
        "id": "q-43_qLCDEIU",
        "outputId": "d00a8a0a-7194-4da7-f090-5d41fe2db4f9"
      },
      "execution_count": 21,
      "outputs": [
        {
          "output_type": "stream",
          "name": "stdout",
          "text": [
            "key =  0\n",
            "1. Five-year-old: \"Why shouldn't we always ask for permission if we want to achieve greatness?\"\n",
            "2. Mature adult: \"How can we overcome the fear of seeking permission and embrace our own potential for greatness?\"\n",
            "If you want to achieve greatness stop asking for permission. ~Anonymous\n",
            "\n",
            "\n",
            "key =  1\n",
            "Question 1 (for a 5-year-old): \"How can we make the best out of things when they don't go as planned?\" \n",
            "\n",
            "Question 2 (for a mature adult): \"In what ways can we cultivate a mindset that allows us to navigate challenging situations and find positive outcomes?\"\n",
            "Things work out best for those who make the best of how things work out. ~John Wooden\n",
            "\n",
            "\n",
            "key =  2\n",
            "1. For a 5-year-old: \"Why should we not be afraid of making mistakes in our creative endeavors?\" \n",
            "\n",
            "2. For a mature adult: \"How can we overcome our fear of being wrong to lead a more creative and fulfilling life?\"\n",
            "To live a creative life, we must lose our fear of being wrong. ~Anonymous\n",
            "\n",
            "\n",
            "key =  3\n",
            "For a 5-year-old: \"Why is it important to take risks instead of being ordinary?\" \n",
            "For a mature adult: \"What advice can we learn from Jim Rohn about taking risks and settling for the ordinary in life?\"\n",
            "If you are not willing to risk the usual you will have to settle for the ordinary. ~Jim Rohn\n",
            "\n",
            "\n",
            "key =  4\n",
            "1. 5-year-old question: \"Why is it important to trust even when things may not be safe or certain?\"\n",
            "2. Mature adult question: \"How can accepting risk and trusting others enhance our lives, despite the potential dangers or uncertainties involved?\"\n",
            "Trust because you are willing to accept the risk, not because it's safe or certain. ~Anonymous\n",
            "\n",
            "\n",
            "key =  5\n",
            "1. 5-year-old: \"How can having one idea make you successful?\"\n",
            "2. Adult: \"What are some practical steps to prioritize and focus on one idea in order to achieve success?\"\n",
            "Take up one idea. Make that one idea your life - think of it, dream of it, live on that idea. Let the brain, muscles, nerves, every part of your body, be full of that idea, and just leave every other idea alone. This is the way to success. ~Swami Vivekananda\n",
            "\n",
            "\n",
            "key =  6\n",
            "1. For a 5-year-old: \"How can we make our dreams come true, just like Walt Disney said?\"\n",
            "2. For a mature adult: \"What steps can I take to find the courage to pursue and achieve my dreams, as Walt Disney suggests?\"\n",
            "All our dreams can come true if we have the courage to pursue them. ~Walt Disney\n",
            "\n",
            "\n",
            "key =  7\n",
            "1. 5-year-old question: \"Why do good things come to people who wait but better things come to those who go out and get them?\"\n",
            "\n",
            "2. Adult question: \"How can individuals increase their chances of achieving better things by going out and actively pursuing them instead of waiting?\"\n",
            "Good things come to people who wait, but better things come to those who go out and get them. ~Anonymous\n",
            "\n",
            "\n",
            "key =  8\n",
            "1. What happens if we keep doing the same things over and over again? (5-year-old)\n",
            "2. How can we break free from the cycle of getting the same results in life? (mature adult)\n",
            "If you do what you always did, you will get what you always got. ~Anonymous\n",
            "\n",
            "\n",
            "key =  9\n",
            "1. Five-year-old question: \"How can I keep going even if I fail, like Winston Churchill said?\"\n",
            "2. Adult question: \"In challenging times, how can we maintain our enthusiasm despite facing repeated failures, as Winston Churchill advised?\"\n",
            "Success is walking from failure to failure with no loss of enthusiasm. ~Winston Churchill\n",
            "\n",
            "\n"
          ]
        }
      ]
    },
    {
      "cell_type": "markdown",
      "source": [
        "## In-Class Exercise 2 (Bonus 2% of overall class grade for completion)\n",
        "\n",
        "We will now do an in-class exercise that explores the ideas of:\n",
        "\n",
        "a) prompt engineering\n",
        "b) data augmentation and\n",
        "c) evaluate SBERT baseline with prompt-engineering based data augmentation.\n",
        "\n",
        "Submission:\n",
        "You can submit the jupyter notebook of this class exercise as a submission on canvas.\n",
        "Each step below should be in a separate cell of jupyter notebook and should show the results post execution of the cell (this assists ease of grading).\n",
        "\n",
        "Steps to execute for ICE:\n",
        "\n",
        "1) Run all cells in the notebook and verify that they all work and you are getting results as expected. If not - fix any bugs, permission issues, etc.\n",
        "\n",
        "2) Pick 5 classes for the \"text reference\" used in this notebook or for your own \".txt\" file that are relevant. For example for this text, maybe I would pick 5 classes as follows: a) time management b) success c) persistence d) courage e) growth\n",
        "You can also ask gpt to return 5 topics that it thinks encapsulate all sentences in the text\n",
        "\n",
        "3) Ask GPT (any version you want to use) to annotate each sentence in the \".txt\" file with one of the 5 classes you identified in step 2. You can use a suitable prompt for this.\n",
        "\n",
        "4) Use SBERT to make predictions for each of the sentences in \".txt\" file - The prediction should be one of the 5 classes identified in step 2.\n",
        "\n",
        "5) Generate a heat map of the confusion matrix based on SBERT predictions and the ground truth you indentified in step 3.\n",
        "\n",
        "6) How well is SBERT doing on your annotated data?"
      ],
      "metadata": {
        "id": "xfVBQrb9C1qq"
      }
    },
    {
      "cell_type": "code",
      "source": [],
      "metadata": {
        "id": "DQVhTluHDmGT"
      },
      "execution_count": null,
      "outputs": []
    }
  ]
}